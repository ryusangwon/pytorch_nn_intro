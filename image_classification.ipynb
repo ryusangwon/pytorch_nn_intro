{
 "cells": [
  {
   "cell_type": "code",
   "execution_count": 1,
   "id": "541578ae-5e8d-4a9b-9d2b-f6be1645d435",
   "metadata": {},
   "outputs": [],
   "source": [
    "import os\n",
    "os.environ['KMP_DUPLICATE_LIB_OK']='True'\n",
    "import torch\n",
    "import torch.nn as nn\n",
    "import torch.nn.functional as F\n",
    "import torch.optim as optim\n",
    "from torchvision import transforms, datasets"
   ]
  },
  {
   "cell_type": "code",
   "execution_count": 2,
   "id": "ac8beaae-a077-4bca-9207-f26ab78fc489",
   "metadata": {},
   "outputs": [],
   "source": [
    "USE_CUDA = torch.cuda.is_available()\n",
    "DEVICE = torch.device('cuda' if USE_CUDA else 'cpu')"
   ]
  },
  {
   "cell_type": "code",
   "execution_count": 3,
   "id": "187aa267-0927-49c9-bda5-d6284785d0a6",
   "metadata": {},
   "outputs": [
    {
     "name": "stderr",
     "output_type": "stream",
     "text": [
      "C:\\Users\\ryu\\anaconda3\\lib\\site-packages\\torchvision\\datasets\\mnist.py:498: UserWarning: The given NumPy array is not writeable, and PyTorch does not support non-writeable tensors. This means you can write to the underlying (supposedly non-writeable) NumPy array using the tensor. You may want to copy the array to protect its data or make it writeable before converting it to a tensor. This type of warning will be suppressed for the rest of this program. (Triggered internally at  ..\\torch\\csrc\\utils\\tensor_numpy.cpp:180.)\n",
      "  return torch.from_numpy(parsed.astype(m[2], copy=False)).view(*s)\n"
     ]
    }
   ],
   "source": [
    "EPOCHS = 30\n",
    "BATCH_SIZE = 64\n",
    "\n",
    "train_transform = transforms.Compose([transforms.ToTensor(), transforms.RandomHorizontalFlip(), transforms.Normalize((0.1307,), (0.3081,))])\n",
    "transform = transforms.Compose([transforms.ToTensor(), transforms.Normalize((0.1307, ), (0.3081, ))])\n",
    "trainset = datasets.FashionMNIST(root = './data/', train = True, download = True, transform = transform)\n",
    "testset = datasets.FashionMNIST(root = './data/', train = False, download = True, transform = transform)\n",
    "train_loader = torch.utils.data.DataLoader(dataset=trainset, batch_size=BATCH_SIZE, shuffle=True)\n",
    "test_loader = torch.utils.data.DataLoader(dataset=testset, batch_size=BATCH_SIZE, shuffle=True)"
   ]
  },
  {
   "cell_type": "code",
   "execution_count": 4,
   "id": "dbb173a1-7489-4dd5-918a-de6efe1d2373",
   "metadata": {},
   "outputs": [],
   "source": [
    "class Net(nn.Module):\n",
    "    def __init__(self, dropout_p=0.2):\n",
    "        super(Net, self).__init__()\n",
    "        self.fc1 = nn.Linear(784, 256)\n",
    "        self.fc2 = nn.Linear(256, 128)\n",
    "        self.fc3 = nn.Linear(128, 10)\n",
    "        self.relu = nn.ReLU()\n",
    "        self.softmax = nn.Softmax(dim=1)\n",
    "        self.dropout_p = dropout_p\n",
    "    \n",
    "    def forward(self, x):\n",
    "        x = x.view(-1, 784)\n",
    "        x = self.relu(self.fc1(x))\n",
    "        x = F.dropout(x, training=self.training, p=self.dropout_p)\n",
    "        x = self.relu(self.fc2(x))\n",
    "        x = F.dropout(x, training=self.training, p=self.dropout_p)\n",
    "        x = self.fc3(x)\n",
    "        x = self.softmax(x)\n",
    "        return x\n",
    "    "
   ]
  },
  {
   "cell_type": "code",
   "execution_count": 5,
   "id": "4e49c92a-d617-4881-82ad-0b5ee333a18e",
   "metadata": {},
   "outputs": [],
   "source": [
    "model = Net(dropout_p=0.2).to(DEVICE)\n",
    "optimizer = optim.SGD(model.parameters(), lr=0.01)"
   ]
  },
  {
   "cell_type": "code",
   "execution_count": 6,
   "id": "cf80624f-8464-4acb-abec-d4a5f94ae2ec",
   "metadata": {},
   "outputs": [],
   "source": [
    "def train(model, train_loader, optimizer):\n",
    "    model.train()\n",
    "    for batch_idx, (data, target) in enumerate(train_loader):\n",
    "        data, target = data.to(DEVICE), target.to(DEVICE)\n",
    "        optimizer.zero_grad()\n",
    "        output = model(data)\n",
    "        loss = F.cross_entropy(output, target)\n",
    "        loss.backward()\n",
    "        optimizer.step()"
   ]
  },
  {
   "cell_type": "code",
   "execution_count": 7,
   "id": "b9668f30-d3f1-4ee8-bd77-2e75ab4eb2fc",
   "metadata": {},
   "outputs": [],
   "source": [
    "def evaluate(model, test_loader):\n",
    "    model.eval()\n",
    "    test_loss = 0\n",
    "    correct = 0\n",
    "    \n",
    "    with torch.no_grad():\n",
    "        for data, target in test_loader:\n",
    "            data, target = data.to(DEVICE), target.to(DEVICE)\n",
    "            output = model(data)\n",
    "            \n",
    "            test_loss += F.cross_entropy(output, target, reduction='sum').item()\n",
    "            pred = output.max(1, keepdim=True)[1]\n",
    "            correct += pred.eq(target.view_as(pred)).sum().item()\n",
    "    \n",
    "    test_loss /= len(test_loader.dataset)\n",
    "    test_accuracy = 100. * correct / len(test_loader.dataset)\n",
    "    return test_loss, test_accuracy"
   ]
  },
  {
   "cell_type": "code",
   "execution_count": 8,
   "id": "298e7d9c-07ce-415c-96a6-f5da655f91a1",
   "metadata": {},
   "outputs": [
    {
     "name": "stdout",
     "output_type": "stream",
     "text": [
      "[1] Test Loss: 1.9346, Accuracy: 62.28%\n",
      "[2] Test Loss: 1.8104, Accuracy: 66.78%\n",
      "[3] Test Loss: 1.7724, Accuracy: 70.91%\n",
      "[4] Test Loss: 1.7187, Accuracy: 76.59%\n",
      "[5] Test Loss: 1.6980, Accuracy: 77.68%\n",
      "[6] Test Loss: 1.6885, Accuracy: 78.44%\n",
      "[7] Test Loss: 1.6837, Accuracy: 78.55%\n",
      "[8] Test Loss: 1.6789, Accuracy: 78.91%\n",
      "[9] Test Loss: 1.6746, Accuracy: 79.30%\n",
      "[10] Test Loss: 1.6715, Accuracy: 79.29%\n",
      "[11] Test Loss: 1.6685, Accuracy: 79.71%\n",
      "[12] Test Loss: 1.6671, Accuracy: 79.72%\n",
      "[13] Test Loss: 1.6656, Accuracy: 79.77%\n",
      "[14] Test Loss: 1.6644, Accuracy: 80.06%\n",
      "[15] Test Loss: 1.6614, Accuracy: 80.40%\n",
      "[16] Test Loss: 1.6599, Accuracy: 80.46%\n",
      "[17] Test Loss: 1.6596, Accuracy: 80.51%\n",
      "[18] Test Loss: 1.6574, Accuracy: 80.69%\n",
      "[19] Test Loss: 1.6564, Accuracy: 80.65%\n",
      "[20] Test Loss: 1.6554, Accuracy: 80.73%\n",
      "[21] Test Loss: 1.6544, Accuracy: 80.98%\n",
      "[22] Test Loss: 1.6538, Accuracy: 80.90%\n",
      "[23] Test Loss: 1.6526, Accuracy: 81.10%\n",
      "[24] Test Loss: 1.6523, Accuracy: 81.10%\n",
      "[25] Test Loss: 1.6524, Accuracy: 81.04%\n",
      "[26] Test Loss: 1.6523, Accuracy: 81.11%\n",
      "[27] Test Loss: 1.6493, Accuracy: 81.26%\n",
      "[28] Test Loss: 1.6495, Accuracy: 81.35%\n",
      "[29] Test Loss: 1.6480, Accuracy: 81.35%\n",
      "[30] Test Loss: 1.6478, Accuracy: 81.35%\n"
     ]
    }
   ],
   "source": [
    "for epoch in range(1, EPOCHS+1):\n",
    "    train(model, train_loader, optimizer)\n",
    "    test_loss, test_accuracy = evaluate(model, test_loader)\n",
    "    print('[{}] Test Loss: {:.4f}, Accuracy: {:.2f}%'.format(epoch, test_loss, test_accuracy))"
   ]
  },
  {
   "cell_type": "code",
   "execution_count": null,
   "id": "92af54d7-54a4-4525-898c-47996498fcf7",
   "metadata": {},
   "outputs": [],
   "source": []
  }
 ],
 "metadata": {
  "kernelspec": {
   "display_name": "Python 3",
   "language": "python",
   "name": "python3"
  },
  "language_info": {
   "codemirror_mode": {
    "name": "ipython",
    "version": 3
   },
   "file_extension": ".py",
   "mimetype": "text/x-python",
   "name": "python",
   "nbconvert_exporter": "python",
   "pygments_lexer": "ipython3",
   "version": "3.8.8"
  }
 },
 "nbformat": 4,
 "nbformat_minor": 5
}
